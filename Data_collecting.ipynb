{
 "cells": [
  {
   "cell_type": "code",
   "execution_count": 1,
   "metadata": {},
   "outputs": [
    {
     "name": "stdout",
     "output_type": "stream",
     "text": [
      "Requirement already satisfied: yfinance in c:\\python311\\lib\\site-packages (0.2.40)\n",
      "Requirement already satisfied: pandas>=1.3.0 in c:\\python311\\lib\\site-packages (from yfinance) (2.2.2)\n",
      "Requirement already satisfied: numpy>=1.16.5 in c:\\python311\\lib\\site-packages (from yfinance) (1.25.1)\n",
      "Requirement already satisfied: requests>=2.31 in c:\\python311\\lib\\site-packages (from yfinance) (2.31.0)\n",
      "Requirement already satisfied: multitasking>=0.0.7 in c:\\python311\\lib\\site-packages (from yfinance) (0.0.11)\n",
      "Requirement already satisfied: lxml>=4.9.1 in c:\\python311\\lib\\site-packages (from yfinance) (5.2.2)\n",
      "Requirement already satisfied: platformdirs>=2.0.0 in c:\\python311\\lib\\site-packages (from yfinance) (4.2.2)\n",
      "Requirement already satisfied: pytz>=2022.5 in c:\\python311\\lib\\site-packages (from yfinance) (2023.3)\n",
      "Requirement already satisfied: frozendict>=2.3.4 in c:\\python311\\lib\\site-packages (from yfinance) (2.4.4)\n",
      "Requirement already satisfied: peewee>=3.16.2 in c:\\python311\\lib\\site-packages (from yfinance) (3.17.5)\n",
      "Requirement already satisfied: beautifulsoup4>=4.11.1 in c:\\python311\\lib\\site-packages (from yfinance) (4.12.3)\n",
      "Requirement already satisfied: html5lib>=1.1 in c:\\python311\\lib\\site-packages (from yfinance) (1.1)\n",
      "Requirement already satisfied: soupsieve>1.2 in c:\\python311\\lib\\site-packages (from beautifulsoup4>=4.11.1->yfinance) (2.5)\n",
      "Requirement already satisfied: six>=1.9 in c:\\python311\\lib\\site-packages (from html5lib>=1.1->yfinance) (1.16.0)\n",
      "Requirement already satisfied: webencodings in c:\\python311\\lib\\site-packages (from html5lib>=1.1->yfinance) (0.5.1)\n",
      "Requirement already satisfied: python-dateutil>=2.8.2 in c:\\python311\\lib\\site-packages (from pandas>=1.3.0->yfinance) (2.8.2)\n",
      "Requirement already satisfied: tzdata>=2022.7 in c:\\python311\\lib\\site-packages (from pandas>=1.3.0->yfinance) (2023.3)\n",
      "Requirement already satisfied: charset-normalizer<4,>=2 in c:\\python311\\lib\\site-packages (from requests>=2.31->yfinance) (3.2.0)\n",
      "Requirement already satisfied: idna<4,>=2.5 in c:\\python311\\lib\\site-packages (from requests>=2.31->yfinance) (3.4)\n",
      "Requirement already satisfied: urllib3<3,>=1.21.1 in c:\\python311\\lib\\site-packages (from requests>=2.31->yfinance) (2.0.4)\n",
      "Requirement already satisfied: certifi>=2017.4.17 in c:\\python311\\lib\\site-packages (from requests>=2.31->yfinance) (2023.7.22)\n"
     ]
    }
   ],
   "source": [
    "!pip install yfinance\n"
   ]
  },
  {
   "cell_type": "markdown",
   "metadata": {},
   "source": [
    "Installing important libraries"
   ]
  },
  {
   "cell_type": "code",
   "execution_count": 2,
   "metadata": {},
   "outputs": [],
   "source": [
    "import yfinance as yf\n",
    "import pandas as pd"
   ]
  },
  {
   "cell_type": "code",
   "execution_count": 3,
   "metadata": {},
   "outputs": [
    {
     "name": "stderr",
     "output_type": "stream",
     "text": [
      "[*********************100%%**********************]  1 of 1 completed\n"
     ]
    },
    {
     "data": {
      "text/html": [
       "<div>\n",
       "<style scoped>\n",
       "    .dataframe tbody tr th:only-of-type {\n",
       "        vertical-align: middle;\n",
       "    }\n",
       "\n",
       "    .dataframe tbody tr th {\n",
       "        vertical-align: top;\n",
       "    }\n",
       "\n",
       "    .dataframe thead th {\n",
       "        text-align: right;\n",
       "    }\n",
       "</style>\n",
       "<table border=\"1\" class=\"dataframe\">\n",
       "  <thead>\n",
       "    <tr style=\"text-align: right;\">\n",
       "      <th></th>\n",
       "      <th>Open</th>\n",
       "      <th>High</th>\n",
       "      <th>Low</th>\n",
       "      <th>Close</th>\n",
       "      <th>Adj Close</th>\n",
       "      <th>Volume</th>\n",
       "    </tr>\n",
       "    <tr>\n",
       "      <th>Date</th>\n",
       "      <th></th>\n",
       "      <th></th>\n",
       "      <th></th>\n",
       "      <th></th>\n",
       "      <th></th>\n",
       "      <th></th>\n",
       "    </tr>\n",
       "  </thead>\n",
       "  <tbody>\n",
       "    <tr>\n",
       "      <th>2019-01-02</th>\n",
       "      <td>99.550003</td>\n",
       "      <td>101.750000</td>\n",
       "      <td>98.940002</td>\n",
       "      <td>101.120003</td>\n",
       "      <td>95.673439</td>\n",
       "      <td>35329300</td>\n",
       "    </tr>\n",
       "    <tr>\n",
       "      <th>2019-01-03</th>\n",
       "      <td>100.099998</td>\n",
       "      <td>100.190002</td>\n",
       "      <td>97.199997</td>\n",
       "      <td>97.400002</td>\n",
       "      <td>92.153816</td>\n",
       "      <td>42579100</td>\n",
       "    </tr>\n",
       "    <tr>\n",
       "      <th>2019-01-04</th>\n",
       "      <td>99.720001</td>\n",
       "      <td>102.510002</td>\n",
       "      <td>98.930000</td>\n",
       "      <td>101.930000</td>\n",
       "      <td>96.439842</td>\n",
       "      <td>44060600</td>\n",
       "    </tr>\n",
       "    <tr>\n",
       "      <th>2019-01-07</th>\n",
       "      <td>101.639999</td>\n",
       "      <td>103.269997</td>\n",
       "      <td>100.980003</td>\n",
       "      <td>102.059998</td>\n",
       "      <td>96.562828</td>\n",
       "      <td>35656100</td>\n",
       "    </tr>\n",
       "    <tr>\n",
       "      <th>2019-01-08</th>\n",
       "      <td>103.040001</td>\n",
       "      <td>103.970001</td>\n",
       "      <td>101.709999</td>\n",
       "      <td>102.800003</td>\n",
       "      <td>97.262962</td>\n",
       "      <td>31514400</td>\n",
       "    </tr>\n",
       "    <tr>\n",
       "      <th>...</th>\n",
       "      <td>...</td>\n",
       "      <td>...</td>\n",
       "      <td>...</td>\n",
       "      <td>...</td>\n",
       "      <td>...</td>\n",
       "      <td>...</td>\n",
       "    </tr>\n",
       "    <tr>\n",
       "      <th>2023-12-22</th>\n",
       "      <td>373.679993</td>\n",
       "      <td>375.179993</td>\n",
       "      <td>372.709991</td>\n",
       "      <td>374.579987</td>\n",
       "      <td>373.215393</td>\n",
       "      <td>17091100</td>\n",
       "    </tr>\n",
       "    <tr>\n",
       "      <th>2023-12-26</th>\n",
       "      <td>375.000000</td>\n",
       "      <td>376.940002</td>\n",
       "      <td>373.500000</td>\n",
       "      <td>374.660004</td>\n",
       "      <td>373.295135</td>\n",
       "      <td>12673100</td>\n",
       "    </tr>\n",
       "    <tr>\n",
       "      <th>2023-12-27</th>\n",
       "      <td>373.690002</td>\n",
       "      <td>375.059998</td>\n",
       "      <td>372.809998</td>\n",
       "      <td>374.070007</td>\n",
       "      <td>372.707275</td>\n",
       "      <td>14905400</td>\n",
       "    </tr>\n",
       "    <tr>\n",
       "      <th>2023-12-28</th>\n",
       "      <td>375.369995</td>\n",
       "      <td>376.459991</td>\n",
       "      <td>374.160004</td>\n",
       "      <td>375.279999</td>\n",
       "      <td>373.912842</td>\n",
       "      <td>14327000</td>\n",
       "    </tr>\n",
       "    <tr>\n",
       "      <th>2023-12-29</th>\n",
       "      <td>376.000000</td>\n",
       "      <td>377.160004</td>\n",
       "      <td>373.480011</td>\n",
       "      <td>376.040009</td>\n",
       "      <td>374.670074</td>\n",
       "      <td>18723000</td>\n",
       "    </tr>\n",
       "  </tbody>\n",
       "</table>\n",
       "<p>1258 rows × 6 columns</p>\n",
       "</div>"
      ],
      "text/plain": [
       "                  Open        High         Low       Close   Adj Close  \\\n",
       "Date                                                                     \n",
       "2019-01-02   99.550003  101.750000   98.940002  101.120003   95.673439   \n",
       "2019-01-03  100.099998  100.190002   97.199997   97.400002   92.153816   \n",
       "2019-01-04   99.720001  102.510002   98.930000  101.930000   96.439842   \n",
       "2019-01-07  101.639999  103.269997  100.980003  102.059998   96.562828   \n",
       "2019-01-08  103.040001  103.970001  101.709999  102.800003   97.262962   \n",
       "...                ...         ...         ...         ...         ...   \n",
       "2023-12-22  373.679993  375.179993  372.709991  374.579987  373.215393   \n",
       "2023-12-26  375.000000  376.940002  373.500000  374.660004  373.295135   \n",
       "2023-12-27  373.690002  375.059998  372.809998  374.070007  372.707275   \n",
       "2023-12-28  375.369995  376.459991  374.160004  375.279999  373.912842   \n",
       "2023-12-29  376.000000  377.160004  373.480011  376.040009  374.670074   \n",
       "\n",
       "              Volume  \n",
       "Date                  \n",
       "2019-01-02  35329300  \n",
       "2019-01-03  42579100  \n",
       "2019-01-04  44060600  \n",
       "2019-01-07  35656100  \n",
       "2019-01-08  31514400  \n",
       "...              ...  \n",
       "2023-12-22  17091100  \n",
       "2023-12-26  12673100  \n",
       "2023-12-27  14905400  \n",
       "2023-12-28  14327000  \n",
       "2023-12-29  18723000  \n",
       "\n",
       "[1258 rows x 6 columns]"
      ]
     },
     "execution_count": 3,
     "metadata": {},
     "output_type": "execute_result"
    }
   ],
   "source": [
    "yf.download(\n",
    "    \"MSFT\",\n",
    "    start = '2019-01-01',\n",
    "    end='2024-01-01',\n",
    "    interval='1d'\n",
    ")"
   ]
  },
  {
   "cell_type": "code",
   "execution_count": 4,
   "metadata": {},
   "outputs": [],
   "source": [
    "ticker = yf.Ticker('MSFT')"
   ]
  },
  {
   "cell_type": "markdown",
   "metadata": {},
   "source": [
    "# Collecting the income statement data"
   ]
  },
  {
   "cell_type": "code",
   "execution_count": 5,
   "metadata": {},
   "outputs": [
    {
     "name": "stderr",
     "output_type": "stream",
     "text": [
      "C:\\Users\\muham\\AppData\\Local\\Temp\\ipykernel_23564\\4139918865.py:13: SettingWithCopyWarning: \n",
      "A value is trying to be set on a copy of a slice from a DataFrame\n",
      "\n",
      "See the caveats in the documentation: https://pandas.pydata.org/pandas-docs/stable/user_guide/indexing.html#returning-a-view-versus-a-copy\n",
      "  financial_metrics.dropna(inplace=True)\n"
     ]
    },
    {
     "data": {
      "text/html": [
       "<div>\n",
       "<style scoped>\n",
       "    .dataframe tbody tr th:only-of-type {\n",
       "        vertical-align: middle;\n",
       "    }\n",
       "\n",
       "    .dataframe tbody tr th {\n",
       "        vertical-align: top;\n",
       "    }\n",
       "\n",
       "    .dataframe thead th {\n",
       "        text-align: right;\n",
       "    }\n",
       "</style>\n",
       "<table border=\"1\" class=\"dataframe\">\n",
       "  <thead>\n",
       "    <tr style=\"text-align: right;\">\n",
       "      <th></th>\n",
       "      <th>Total Revenue</th>\n",
       "      <th>Gross Profit</th>\n",
       "      <th>Operating Income</th>\n",
       "      <th>Net Income</th>\n",
       "      <th>Basic EPS</th>\n",
       "      <th>Gross Profit Margin</th>\n",
       "      <th>Net Income Margin</th>\n",
       "      <th>Operating Profit Margin</th>\n",
       "    </tr>\n",
       "    <tr>\n",
       "      <th>Metric</th>\n",
       "      <th></th>\n",
       "      <th></th>\n",
       "      <th></th>\n",
       "      <th></th>\n",
       "      <th></th>\n",
       "      <th></th>\n",
       "      <th></th>\n",
       "      <th></th>\n",
       "    </tr>\n",
       "  </thead>\n",
       "  <tbody>\n",
       "    <tr>\n",
       "      <th>2023-06-30</th>\n",
       "      <td>211915000000.0</td>\n",
       "      <td>146052000000.0</td>\n",
       "      <td>88523000000.0</td>\n",
       "      <td>72361000000.0</td>\n",
       "      <td>9.72</td>\n",
       "      <td>68.920086</td>\n",
       "      <td>34.146238</td>\n",
       "      <td>41.772881</td>\n",
       "    </tr>\n",
       "    <tr>\n",
       "      <th>2022-06-30</th>\n",
       "      <td>198270000000.0</td>\n",
       "      <td>135620000000.0</td>\n",
       "      <td>83383000000.0</td>\n",
       "      <td>72738000000.0</td>\n",
       "      <td>9.7</td>\n",
       "      <td>68.401674</td>\n",
       "      <td>36.686337</td>\n",
       "      <td>42.055278</td>\n",
       "    </tr>\n",
       "    <tr>\n",
       "      <th>2021-06-30</th>\n",
       "      <td>168088000000.0</td>\n",
       "      <td>115856000000.0</td>\n",
       "      <td>69916000000.0</td>\n",
       "      <td>61271000000.0</td>\n",
       "      <td>8.12</td>\n",
       "      <td>68.925801</td>\n",
       "      <td>36.45174</td>\n",
       "      <td>41.594879</td>\n",
       "    </tr>\n",
       "    <tr>\n",
       "      <th>2020-06-30</th>\n",
       "      <td>143015000000.0</td>\n",
       "      <td>96937000000.0</td>\n",
       "      <td>52959000000.0</td>\n",
       "      <td>44281000000.0</td>\n",
       "      <td>5.82</td>\n",
       "      <td>67.781002</td>\n",
       "      <td>30.962486</td>\n",
       "      <td>37.030381</td>\n",
       "    </tr>\n",
       "  </tbody>\n",
       "</table>\n",
       "</div>"
      ],
      "text/plain": [
       "             Total Revenue    Gross Profit Operating Income     Net Income  \\\n",
       "Metric                                                                       \n",
       "2023-06-30  211915000000.0  146052000000.0    88523000000.0  72361000000.0   \n",
       "2022-06-30  198270000000.0  135620000000.0    83383000000.0  72738000000.0   \n",
       "2021-06-30  168088000000.0  115856000000.0    69916000000.0  61271000000.0   \n",
       "2020-06-30  143015000000.0   96937000000.0    52959000000.0  44281000000.0   \n",
       "\n",
       "           Basic EPS Gross Profit Margin Net Income Margin  \\\n",
       "Metric                                                       \n",
       "2023-06-30      9.72           68.920086         34.146238   \n",
       "2022-06-30       9.7           68.401674         36.686337   \n",
       "2021-06-30      8.12           68.925801          36.45174   \n",
       "2020-06-30      5.82           67.781002         30.962486   \n",
       "\n",
       "           Operating Profit Margin  \n",
       "Metric                              \n",
       "2023-06-30               41.772881  \n",
       "2022-06-30               42.055278  \n",
       "2021-06-30               41.594879  \n",
       "2020-06-30               37.030381  "
      ]
     },
     "execution_count": 5,
     "metadata": {},
     "output_type": "execute_result"
    }
   ],
   "source": [
    "# Extracting financial data\n",
    "financials = ticker.financials.transpose()\n",
    "\n",
    "# Calculating margins\n",
    "financials['Gross Profit Margin'] = (financials['Gross Profit'] / financials['Total Revenue']) * 100\n",
    "financials['Net Income Margin'] = (financials['Net Income'] / financials['Total Revenue']) * 100\n",
    "financials['Operating Profit Margin'] = (financials['Operating Income']/financials['Total Revenue'])*100\n",
    "\n",
    "# Displaying the financial metrics DataFrame\n",
    "financial_metrics = financials[['Total Revenue', 'Gross Profit', 'Operating Income', 'Net Income', 'Basic EPS', 'Gross Profit Margin', 'Net Income Margin', 'Operating Profit Margin']]\n",
    "financial_metrics.index.name = 'Metric'\n",
    "\n",
    "financial_metrics.dropna(inplace=True)\n",
    "\n",
    "financial_metrics"
   ]
  },
  {
   "cell_type": "markdown",
   "metadata": {},
   "source": [
    "### Checking any duplicate rows and missing values"
   ]
  },
  {
   "cell_type": "code",
   "execution_count": 6,
   "metadata": {},
   "outputs": [
    {
     "name": "stdout",
     "output_type": "stream",
     "text": [
      "Missing values in DataFrame:\n",
      "Total Revenue              False\n",
      "Gross Profit               False\n",
      "Operating Income           False\n",
      "Net Income                 False\n",
      "Basic EPS                  False\n",
      "Gross Profit Margin        False\n",
      "Net Income Margin          False\n",
      "Operating Profit Margin    False\n",
      "dtype: bool\n"
     ]
    }
   ],
   "source": [
    "missing_values = financial_metrics.isnull().any()\n",
    "print(\"Missing values in DataFrame:\")\n",
    "print(missing_values)\n"
   ]
  },
  {
   "cell_type": "code",
   "execution_count": 7,
   "metadata": {},
   "outputs": [
    {
     "name": "stdout",
     "output_type": "stream",
     "text": [
      "Duplicate rows in DataFrame:\n",
      "Empty DataFrame\n",
      "Columns: [Total Revenue, Gross Profit, Operating Income, Net Income, Basic EPS, Gross Profit Margin, Net Income Margin, Operating Profit Margin]\n",
      "Index: []\n"
     ]
    }
   ],
   "source": [
    "duplicate_rows = financial_metrics[financial_metrics.duplicated()]\n",
    "print(\"Duplicate rows in DataFrame:\")\n",
    "print(duplicate_rows)\n"
   ]
  },
  {
   "cell_type": "code",
   "execution_count": 8,
   "metadata": {},
   "outputs": [],
   "source": [
    "financial_metrics.to_csv('Microsoft_income_statement.csv') "
   ]
  },
  {
   "cell_type": "code",
   "execution_count": null,
   "metadata": {},
   "outputs": [],
   "source": []
  },
  {
   "cell_type": "markdown",
   "metadata": {},
   "source": [
    "# Collecting Balance sheet Data"
   ]
  },
  {
   "cell_type": "code",
   "execution_count": 9,
   "metadata": {},
   "outputs": [],
   "source": [
    "balance = ticker.balance_sheet.transpose()"
   ]
  },
  {
   "cell_type": "markdown",
   "metadata": {},
   "source": [
    "### Collecting the Balance sheet data from Yahoo Finance"
   ]
  },
  {
   "cell_type": "code",
   "execution_count": 10,
   "metadata": {},
   "outputs": [
    {
     "name": "stderr",
     "output_type": "stream",
     "text": [
      "C:\\Users\\muham\\AppData\\Local\\Temp\\ipykernel_23564\\1078997020.py:27: SettingWithCopyWarning: \n",
      "A value is trying to be set on a copy of a slice from a DataFrame\n",
      "\n",
      "See the caveats in the documentation: https://pandas.pydata.org/pandas-docs/stable/user_guide/indexing.html#returning-a-view-versus-a-copy\n",
      "  balance_sheet_metric.dropna(inplace=True)\n"
     ]
    },
    {
     "data": {
      "text/html": [
       "<div>\n",
       "<style scoped>\n",
       "    .dataframe tbody tr th:only-of-type {\n",
       "        vertical-align: middle;\n",
       "    }\n",
       "\n",
       "    .dataframe tbody tr th {\n",
       "        vertical-align: top;\n",
       "    }\n",
       "\n",
       "    .dataframe thead th {\n",
       "        text-align: right;\n",
       "    }\n",
       "</style>\n",
       "<table border=\"1\" class=\"dataframe\">\n",
       "  <thead>\n",
       "    <tr style=\"text-align: right;\">\n",
       "      <th></th>\n",
       "      <th>Total Assets</th>\n",
       "      <th>Current Assets</th>\n",
       "      <th>Non Current Assets</th>\n",
       "      <th>Current Liabilities</th>\n",
       "      <th>Total Liabilities Net Minority Interest</th>\n",
       "      <th>Common Stock Equity</th>\n",
       "      <th>Retained Earnings</th>\n",
       "      <th>Total Debt</th>\n",
       "      <th>Net Debt</th>\n",
       "      <th>Stockholders Equity</th>\n",
       "      <th>Return On Equity</th>\n",
       "      <th>Current Ratio</th>\n",
       "      <th>Quick Ratio</th>\n",
       "      <th>Debt to Equity Ratio</th>\n",
       "      <th>Asset Turnover Ratio</th>\n",
       "    </tr>\n",
       "  </thead>\n",
       "  <tbody>\n",
       "    <tr>\n",
       "      <th>2023-06-30</th>\n",
       "      <td>411976000000.0</td>\n",
       "      <td>184257000000.0</td>\n",
       "      <td>227719000000.0</td>\n",
       "      <td>104149000000.0</td>\n",
       "      <td>205753000000.0</td>\n",
       "      <td>206223000000.0</td>\n",
       "      <td>118848000000.0</td>\n",
       "      <td>59965000000.0</td>\n",
       "      <td>12533000000.0</td>\n",
       "      <td>206223000000.0</td>\n",
       "      <td>35.088715</td>\n",
       "      <td>1.769167</td>\n",
       "      <td>1.745163</td>\n",
       "      <td>0.997721</td>\n",
       "      <td>0.514387</td>\n",
       "    </tr>\n",
       "    <tr>\n",
       "      <th>2022-06-30</th>\n",
       "      <td>364840000000.0</td>\n",
       "      <td>169684000000.0</td>\n",
       "      <td>195156000000.0</td>\n",
       "      <td>95082000000.0</td>\n",
       "      <td>198298000000.0</td>\n",
       "      <td>166542000000.0</td>\n",
       "      <td>84281000000.0</td>\n",
       "      <td>61270000000.0</td>\n",
       "      <td>35850000000.0</td>\n",
       "      <td>166542000000.0</td>\n",
       "      <td>43.675469</td>\n",
       "      <td>1.784607</td>\n",
       "      <td>1.745251</td>\n",
       "      <td>1.190679</td>\n",
       "      <td>0.543444</td>\n",
       "    </tr>\n",
       "    <tr>\n",
       "      <th>2021-06-30</th>\n",
       "      <td>333779000000.0</td>\n",
       "      <td>184406000000.0</td>\n",
       "      <td>149373000000.0</td>\n",
       "      <td>88657000000.0</td>\n",
       "      <td>191791000000.0</td>\n",
       "      <td>141988000000.0</td>\n",
       "      <td>57055000000.0</td>\n",
       "      <td>67775000000.0</td>\n",
       "      <td>43922000000.0</td>\n",
       "      <td>141988000000.0</td>\n",
       "      <td>43.152238</td>\n",
       "      <td>2.079994</td>\n",
       "      <td>2.050261</td>\n",
       "      <td>1.350755</td>\n",
       "      <td>0.503591</td>\n",
       "    </tr>\n",
       "    <tr>\n",
       "      <th>2020-06-30</th>\n",
       "      <td>301311000000.0</td>\n",
       "      <td>181915000000.0</td>\n",
       "      <td>119396000000.0</td>\n",
       "      <td>72310000000.0</td>\n",
       "      <td>183007000000.0</td>\n",
       "      <td>118304000000.0</td>\n",
       "      <td>34566000000.0</td>\n",
       "      <td>70998000000.0</td>\n",
       "      <td>49751000000.0</td>\n",
       "      <td>118304000000.0</td>\n",
       "      <td>37.429842</td>\n",
       "      <td>2.515765</td>\n",
       "      <td>2.489559</td>\n",
       "      <td>1.546921</td>\n",
       "      <td>0.474642</td>\n",
       "    </tr>\n",
       "  </tbody>\n",
       "</table>\n",
       "</div>"
      ],
      "text/plain": [
       "              Total Assets  Current Assets Non Current Assets  \\\n",
       "2023-06-30  411976000000.0  184257000000.0     227719000000.0   \n",
       "2022-06-30  364840000000.0  169684000000.0     195156000000.0   \n",
       "2021-06-30  333779000000.0  184406000000.0     149373000000.0   \n",
       "2020-06-30  301311000000.0  181915000000.0     119396000000.0   \n",
       "\n",
       "           Current Liabilities Total Liabilities Net Minority Interest  \\\n",
       "2023-06-30      104149000000.0                          205753000000.0   \n",
       "2022-06-30       95082000000.0                          198298000000.0   \n",
       "2021-06-30       88657000000.0                          191791000000.0   \n",
       "2020-06-30       72310000000.0                          183007000000.0   \n",
       "\n",
       "           Common Stock Equity Retained Earnings     Total Debt  \\\n",
       "2023-06-30      206223000000.0    118848000000.0  59965000000.0   \n",
       "2022-06-30      166542000000.0     84281000000.0  61270000000.0   \n",
       "2021-06-30      141988000000.0     57055000000.0  67775000000.0   \n",
       "2020-06-30      118304000000.0     34566000000.0  70998000000.0   \n",
       "\n",
       "                 Net Debt Stockholders Equity Return On Equity Current Ratio  \\\n",
       "2023-06-30  12533000000.0      206223000000.0        35.088715      1.769167   \n",
       "2022-06-30  35850000000.0      166542000000.0        43.675469      1.784607   \n",
       "2021-06-30  43922000000.0      141988000000.0        43.152238      2.079994   \n",
       "2020-06-30  49751000000.0      118304000000.0        37.429842      2.515765   \n",
       "\n",
       "           Quick Ratio Debt to Equity Ratio Asset Turnover Ratio  \n",
       "2023-06-30    1.745163             0.997721             0.514387  \n",
       "2022-06-30    1.745251             1.190679             0.543444  \n",
       "2021-06-30    2.050261             1.350755             0.503591  \n",
       "2020-06-30    2.489559             1.546921             0.474642  "
      ]
     },
     "execution_count": 10,
     "metadata": {},
     "output_type": "execute_result"
    }
   ],
   "source": [
    "# Calculating non current assets and return on equity\n",
    "balance['Non Current Assets'] = balance[\"Total Assets\"] - balance[\"Current Assets\"] \n",
    "balance['Return On Equity'] = (financials[\"Net Income\"] / balance[\"Stockholders Equity\"]) * 100\n",
    "balance['Current Ratio'] = balance['Current Assets']/balance['Current Liabilities']\n",
    "balance['Quick Ratio'] = (balance['Current Assets'] - balance[\"Inventory\"]) / balance[\"Current Liabilities\"]\n",
    "balance['Debt to Equity Ratio'] = balance['Total Liabilities Net Minority Interest']/balance['Stockholders Equity']\n",
    "balance['Asset Turnover Ratio'] = financials['Total Revenue']/balance['Total Assets']\n",
    "\n",
    "balance_sheet_metric = balance[[\n",
    "    'Total Assets', \n",
    "    'Current Assets', \n",
    "    \"Non Current Assets\",\n",
    "    'Current Liabilities',\n",
    "    'Total Liabilities Net Minority Interest',\n",
    "    'Common Stock Equity',\n",
    "    'Retained Earnings',\n",
    "    'Total Debt',\n",
    "    'Net Debt',\n",
    "    \"Stockholders Equity\",\n",
    "    \"Return On Equity\",\n",
    "    'Current Ratio',\n",
    "    'Quick Ratio',\n",
    "    'Debt to Equity Ratio',\n",
    "    'Asset Turnover Ratio']]\n",
    "\n",
    "# Drop any NaN values\n",
    "balance_sheet_metric.dropna(inplace=True)\n",
    "\n",
    "balance_sheet_metric"
   ]
  },
  {
   "cell_type": "markdown",
   "metadata": {},
   "source": [
    "### Data integrity by checking missing values and duplicate rows"
   ]
  },
  {
   "cell_type": "code",
   "execution_count": 11,
   "metadata": {},
   "outputs": [
    {
     "name": "stdout",
     "output_type": "stream",
     "text": [
      "Missing values in DataFrame:\n",
      "Ordinary Shares Number    False\n",
      "Share Issued              False\n",
      "Net Debt                  False\n",
      "Total Debt                False\n",
      "Tangible Book Value       False\n",
      "                          ...  \n",
      "Return On Equity          False\n",
      "Current Ratio             False\n",
      "Quick Ratio               False\n",
      "Debt to Equity Ratio      False\n",
      "Asset Turnover Ratio      False\n",
      "Length: 79, dtype: bool\n"
     ]
    }
   ],
   "source": [
    "balance_sheet_missing_values = balance.isnull().any()\n",
    "print(\"Missing values in DataFrame:\")\n",
    "print(balance_sheet_missing_values)\n"
   ]
  },
  {
   "cell_type": "code",
   "execution_count": 12,
   "metadata": {},
   "outputs": [
    {
     "name": "stdout",
     "output_type": "stream",
     "text": [
      "Duplicate rows in DataFrame:\n",
      "Empty DataFrame\n",
      "Columns: [Total Assets, Current Assets, Non Current Assets, Current Liabilities, Total Liabilities Net Minority Interest, Common Stock Equity, Retained Earnings, Total Debt, Net Debt, Stockholders Equity, Return On Equity, Current Ratio, Quick Ratio, Debt to Equity Ratio, Asset Turnover Ratio]\n",
      "Index: []\n"
     ]
    }
   ],
   "source": [
    "balance_sheet_duplicate_rows = balance_sheet_metric[balance_sheet_metric.duplicated()]\n",
    "print(\"Duplicate rows in DataFrame:\")\n",
    "print(balance_sheet_duplicate_rows)\n"
   ]
  },
  {
   "cell_type": "markdown",
   "metadata": {},
   "source": [
    "Save it to CSV file"
   ]
  },
  {
   "cell_type": "code",
   "execution_count": 13,
   "metadata": {},
   "outputs": [],
   "source": [
    "balance_sheet_metric.to_csv('Microsoft_balance_sheet.csv') "
   ]
  },
  {
   "cell_type": "markdown",
   "metadata": {},
   "source": [
    "# Cashflow Statement "
   ]
  },
  {
   "cell_type": "code",
   "execution_count": 14,
   "metadata": {},
   "outputs": [],
   "source": [
    "cashflow = ticker.cashflow.transpose()"
   ]
  },
  {
   "cell_type": "markdown",
   "metadata": {},
   "source": [
    "### Collecting data from Cashflow statement"
   ]
  },
  {
   "cell_type": "code",
   "execution_count": 15,
   "metadata": {},
   "outputs": [
    {
     "name": "stderr",
     "output_type": "stream",
     "text": [
      "C:\\Users\\muham\\AppData\\Local\\Temp\\ipykernel_23564\\2764176389.py:14: SettingWithCopyWarning: \n",
      "A value is trying to be set on a copy of a slice from a DataFrame\n",
      "\n",
      "See the caveats in the documentation: https://pandas.pydata.org/pandas-docs/stable/user_guide/indexing.html#returning-a-view-versus-a-copy\n",
      "  cashflow_sheet_metric.dropna(inplace=True)\n"
     ]
    },
    {
     "data": {
      "text/html": [
       "<div>\n",
       "<style scoped>\n",
       "    .dataframe tbody tr th:only-of-type {\n",
       "        vertical-align: middle;\n",
       "    }\n",
       "\n",
       "    .dataframe tbody tr th {\n",
       "        vertical-align: top;\n",
       "    }\n",
       "\n",
       "    .dataframe thead th {\n",
       "        text-align: right;\n",
       "    }\n",
       "</style>\n",
       "<table border=\"1\" class=\"dataframe\">\n",
       "  <thead>\n",
       "    <tr style=\"text-align: right;\">\n",
       "      <th></th>\n",
       "      <th>Operating Cash Flow</th>\n",
       "      <th>Investing Cash Flow</th>\n",
       "      <th>Financing Cash Flow</th>\n",
       "      <th>Free Cash Flow</th>\n",
       "      <th>Capital Expenditure</th>\n",
       "      <th>Capital Expenditure Net Income</th>\n",
       "    </tr>\n",
       "  </thead>\n",
       "  <tbody>\n",
       "    <tr>\n",
       "      <th>2023-06-30</th>\n",
       "      <td>87582000000.0</td>\n",
       "      <td>-22680000000.0</td>\n",
       "      <td>-43935000000.0</td>\n",
       "      <td>59475000000.0</td>\n",
       "      <td>-28107000000.0</td>\n",
       "      <td>-38.842747</td>\n",
       "    </tr>\n",
       "    <tr>\n",
       "      <th>2022-06-30</th>\n",
       "      <td>89035000000.0</td>\n",
       "      <td>-30311000000.0</td>\n",
       "      <td>-58876000000.0</td>\n",
       "      <td>65149000000.0</td>\n",
       "      <td>-23886000000.0</td>\n",
       "      <td>-32.838406</td>\n",
       "    </tr>\n",
       "    <tr>\n",
       "      <th>2021-06-30</th>\n",
       "      <td>76740000000.0</td>\n",
       "      <td>-27577000000.0</td>\n",
       "      <td>-48486000000.0</td>\n",
       "      <td>56118000000.0</td>\n",
       "      <td>-20622000000.0</td>\n",
       "      <td>-33.657032</td>\n",
       "    </tr>\n",
       "    <tr>\n",
       "      <th>2020-06-30</th>\n",
       "      <td>60675000000.0</td>\n",
       "      <td>-12223000000.0</td>\n",
       "      <td>-46031000000.0</td>\n",
       "      <td>45234000000.0</td>\n",
       "      <td>-15441000000.0</td>\n",
       "      <td>-34.870486</td>\n",
       "    </tr>\n",
       "  </tbody>\n",
       "</table>\n",
       "</div>"
      ],
      "text/plain": [
       "           Operating Cash Flow Investing Cash Flow Financing Cash Flow  \\\n",
       "2023-06-30       87582000000.0      -22680000000.0      -43935000000.0   \n",
       "2022-06-30       89035000000.0      -30311000000.0      -58876000000.0   \n",
       "2021-06-30       76740000000.0      -27577000000.0      -48486000000.0   \n",
       "2020-06-30       60675000000.0      -12223000000.0      -46031000000.0   \n",
       "\n",
       "           Free Cash Flow Capital Expenditure Capital Expenditure Net Income  \n",
       "2023-06-30  59475000000.0      -28107000000.0                     -38.842747  \n",
       "2022-06-30  65149000000.0      -23886000000.0                     -32.838406  \n",
       "2021-06-30  56118000000.0      -20622000000.0                     -33.657032  \n",
       "2020-06-30  45234000000.0      -15441000000.0                     -34.870486  "
      ]
     },
     "execution_count": 15,
     "metadata": {},
     "output_type": "execute_result"
    }
   ],
   "source": [
    "# Calculating non current assets and return on equity\n",
    "cashflow[\"Capital Expenditure Net Income\"] =  (cashflow[\"Capital Expenditure\"] / financials[\"Net Income\"])*100\n",
    "\n",
    "cashflow_sheet_metric = cashflow[[\n",
    "    \"Operating Cash Flow\",\n",
    "    \"Investing Cash Flow\",\n",
    "    \"Financing Cash Flow\", \n",
    "    \"Free Cash Flow\",\n",
    "    \"Capital Expenditure\",\n",
    "    \"Capital Expenditure Net Income\"\n",
    "]]\n",
    "\n",
    "# Drop any NaN values\n",
    "cashflow_sheet_metric.dropna(inplace=True)\n",
    "\n",
    "cashflow_sheet_metric"
   ]
  },
  {
   "cell_type": "markdown",
   "metadata": {},
   "source": [
    "### Data integrity by checking duplicates and checking missing values"
   ]
  },
  {
   "cell_type": "code",
   "execution_count": 16,
   "metadata": {},
   "outputs": [
    {
     "name": "stdout",
     "output_type": "stream",
     "text": [
      "Missing values in DataFrame:\n",
      "Operating Cash Flow               False\n",
      "Investing Cash Flow               False\n",
      "Financing Cash Flow               False\n",
      "Free Cash Flow                    False\n",
      "Capital Expenditure               False\n",
      "Capital Expenditure Net Income    False\n",
      "dtype: bool\n"
     ]
    }
   ],
   "source": [
    "cashflow_missing_values = cashflow_sheet_metric.isnull().any()\n",
    "print(\"Missing values in DataFrame:\")\n",
    "print(cashflow_missing_values)"
   ]
  },
  {
   "cell_type": "code",
   "execution_count": 17,
   "metadata": {},
   "outputs": [
    {
     "name": "stdout",
     "output_type": "stream",
     "text": [
      "Duplicate rows in DataFrame:\n",
      "Empty DataFrame\n",
      "Columns: [Operating Cash Flow, Investing Cash Flow, Financing Cash Flow, Free Cash Flow, Capital Expenditure, Capital Expenditure Net Income]\n",
      "Index: []\n"
     ]
    }
   ],
   "source": [
    "cashflow_sheet_duplicate_rows = cashflow_sheet_metric[cashflow_sheet_metric.duplicated()]\n",
    "print(\"Duplicate rows in DataFrame:\")\n",
    "print(cashflow_sheet_duplicate_rows)\n"
   ]
  },
  {
   "cell_type": "code",
   "execution_count": 18,
   "metadata": {},
   "outputs": [],
   "source": [
    "cashflow_sheet_metric.to_csv('Microsoft_cashflow_statement.csv') "
   ]
  }
 ],
 "metadata": {
  "kernelspec": {
   "display_name": "Python 3",
   "language": "python",
   "name": "python3"
  },
  "language_info": {
   "codemirror_mode": {
    "name": "ipython",
    "version": 3
   },
   "file_extension": ".py",
   "mimetype": "text/x-python",
   "name": "python",
   "nbconvert_exporter": "python",
   "pygments_lexer": "ipython3",
   "version": "3.11.4"
  }
 },
 "nbformat": 4,
 "nbformat_minor": 2
}
